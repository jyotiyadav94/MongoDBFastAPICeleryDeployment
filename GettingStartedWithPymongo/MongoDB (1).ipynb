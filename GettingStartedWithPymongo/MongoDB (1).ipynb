{
  "nbformat": 4,
  "nbformat_minor": 0,
  "metadata": {
    "colab": {
      "provenance": []
    },
    "kernelspec": {
      "name": "python3",
      "display_name": "Python 3"
    },
    "language_info": {
      "name": "python"
    }
  },
  "cells": [
    {
      "cell_type": "code",
      "execution_count": 12,
      "metadata": {
        "colab": {
          "base_uri": "https://localhost:8080/"
        },
        "id": "AKdBB0jVcYs9",
        "outputId": "ea247f26-d696-447f-ba64-b18a5138362a"
      },
      "outputs": [
        {
          "output_type": "stream",
          "name": "stdout",
          "text": [
            "Requirement already satisfied: pymongo in /usr/local/lib/python3.10/dist-packages (4.6.2)\n",
            "Requirement already satisfied: dnspython<3.0.0,>=1.16.0 in /usr/local/lib/python3.10/dist-packages (from pymongo) (2.6.1)\n"
          ]
        }
      ],
      "source": [
        "\n",
        "# Install the requirements\n",
        "!pip install pymongo"
      ]
    },
    {
      "cell_type": "code",
      "source": [
        "# Data Handling\n",
        "import numpy as np\n",
        "import pandas as pd\n",
        "import seaborn as sns\n",
        "\n",
        "from pymongo import MongoClient\n",
        "from bson import ObjectId\n",
        "from typing import List, Dict\n",
        "import pandas as pd\n",
        "import json\n"
      ],
      "metadata": {
        "id": "H3DlVXbbceEj"
      },
      "execution_count": 13,
      "outputs": []
    },
    {
      "cell_type": "code",
      "source": [
        "def delete_collection_data(my_database, my_collection, cluster_uri):\n",
        "    \"\"\"\n",
        "    Delete all records from the specified collection in the specified database.\n",
        "\n",
        "    Parameters:\n",
        "    - my_database (str): Name of the MongoDB database.\n",
        "    - my_collection (str): Name of the MongoDB collection.\n",
        "    - cluster_uri (str): MongoDB connection URI.\n",
        "    \"\"\"\n",
        "    # Connect to MongoDB\n",
        "    client = MongoClient(cluster_uri)\n",
        "\n",
        "    # Access the database and collection\n",
        "    db = client[my_database]\n",
        "    collection = db[my_collection]\n",
        "\n",
        "    # Delete all records from the collection\n",
        "    collection.delete_many({})\n",
        "\n",
        "    # Close the MongoDB connection\n",
        "    client.close()\n",
        "\n",
        "\n",
        "def insert_dataframe_to_collection(my_database, my_collection, cluster_uri, dataframe_dict):\n",
        "    \"\"\"\n",
        "    Insert the DataFrame records into the specified collection in the specified database.\n",
        "\n",
        "    Parameters:\n",
        "    - my_database (str): Name of the MongoDB database.\n",
        "    - my_collection (str): Name of the MongoDB collection.\n",
        "    - cluster_uri (str): MongoDB connection URI.\n",
        "    \"\"\"\n",
        "    # Connect to MongoDB\n",
        "    client = MongoClient(cluster_uri)\n",
        "\n",
        "    # Access the database and collection\n",
        "    db = client[my_database]\n",
        "    collection = db[my_collection]\n",
        "\n",
        "    # Iterate over each collection and DataFrame in the dictionary\n",
        "    for collection_name, dataframe in dataframe_dict.items():\n",
        "        # Access the collection\n",
        "        collection = db[collection_name]\n",
        "\n",
        "        # Delete all records from the collection\n",
        "        collection.delete_many({})\n",
        "\n",
        "        # Convert DataFrame to dictionary\n",
        "        data = dataframe.to_dict(orient='records')\n",
        "\n",
        "        # Insert data into MongoDB collection\n",
        "        collection.insert_many(data)\n",
        "\n",
        "    # Close the MongoDB connection\n",
        "    client.close()\n",
        "\n",
        "\n",
        "\n",
        "def query_collection_to_dataframe(my_database, my_collection, cluster_uri):\n",
        "    \"\"\"\n",
        "    Query all records from the specified collection in the specified database,\n",
        "    and load the data into a DataFrame.\n",
        "\n",
        "    Parameters:\n",
        "    - my_database (str): Name of the MongoDB database.\n",
        "    - my_collection (str): Name of the MongoDB collection.\n",
        "    - cluster_uri (str): MongoDB connection URI.\n",
        "\n",
        "    Returns:\n",
        "    - dataframe (DataFrame): DataFrame containing the queried records.\n",
        "    \"\"\"\n",
        "    # Connect to MongoDB\n",
        "    client = MongoClient(cluster_uri)\n",
        "\n",
        "    # Access the database and collection\n",
        "    db = client[my_database]\n",
        "    collection = db[my_collection]\n",
        "\n",
        "    # Query all records from the collection\n",
        "    cursor = collection.find({})\n",
        "\n",
        "    # Convert cursor to DataFrame\n",
        "    dataframe = pd.DataFrame(list(cursor))\n",
        "\n",
        "    # Close the MongoDB connection\n",
        "    client.close()\n",
        "\n",
        "    return dataframe"
      ],
      "metadata": {
        "id": "fDIIXCbPclFw"
      },
      "execution_count": 5,
      "outputs": []
    },
    {
      "cell_type": "code",
      "source": [
        "# Usage example:\n",
        "# Define database name, collection name, and MongoDB connection URI\n",
        "my_database = ''\n",
        "my_collection = ''\n",
        "cluster_uri = ''"
      ],
      "metadata": {
        "id": "XMF02uh3cmhv"
      },
      "execution_count": 6,
      "outputs": []
    },
    {
      "cell_type": "code",
      "source": [
        "# Read data into DataFrames\n",
        "train=pd.read_csv('')\n",
        "test=pd.read_csv('')\n",
        "\n",
        "# Create a dictionary where keys are collection names and values are DataFrames\n",
        "dataframe_dict = {\n",
        "    'train':train,\n",
        "    'test':test\n",
        "}\n",
        "\n",
        "# Delete all records from the collection\n",
        "delete_collection_data(my_database, my_collection, cluster_uri)\n",
        "\n",
        "# Insert DataFrame records into the collection\n",
        "insert_dataframe_to_collection(my_database, my_collection, cluster_uri, dataframe_dict)\n"
      ],
      "metadata": {
        "id": "P6gntC8Ccn5x"
      },
      "execution_count": null,
      "outputs": []
    },
    {
      "cell_type": "code",
      "source": [
        "# Query the collection holidays_events and load data into a DataFrame\n",
        "holidays_events = query_collection_to_dataframe(my_database, 'holidays_events', cluster_uri)\n",
        "holidays_events"
      ],
      "metadata": {
        "id": "Muk2uZ8wcpjA"
      },
      "execution_count": null,
      "outputs": []
    }
  ]
}